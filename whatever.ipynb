{
 "cells": [
  {
   "cell_type": "code",
   "execution_count": 2,
   "metadata": {},
   "outputs": [],
   "source": [
    "from selenium import webdriver\n",
    "from selenium.webdriver.common.keys import Keys\n",
    "from time import sleep, strftime, clock\n",
    "from random import randint\n",
    "from numpy.random import uniform, binomial, choice"
   ]
  },
  {
   "cell_type": "markdown",
   "metadata": {},
   "source": [
    "# check out these imports\n"
   ]
  },
  {
   "cell_type": "code",
   "execution_count": 12,
   "metadata": {},
   "outputs": [],
   "source": [
    "# =============================================================================\n",
    "# PARAMETERS\n",
    "# =============================================================================\n",
    "CHROMEDRIVER_PATH = 'chromedriver.exe' #Just runing this script from same folder as the exe\n",
    "#...\n",
    "\n",
    "\n",
    "\n",
    "\n",
    "# =============================================================================\n",
    "# INITIALIZE DRIVER\n",
    "# =============================================================================\n",
    "chrome_webdriver = webdriver.Chrome(executable_path=CHROMEDRIVER_PATH)\n",
    "sleep(3)\n",
    "#Go to some other website just to have one tab permanently open:\n",
    "chrome_webdriver.get('https://www.reddit.com/')\n",
    "sleep(3)\n"
   ]
  },
  {
   "cell_type": "markdown",
   "metadata": {},
   "source": [
    "Launch a chrome window that can be controlled by python code, and go to google via the .get request. we use the sleep(3) to create a buffer for any kind of lag that might occur. sleep(3) also looks more human( we should use a uniform distribution to create different random waiting times to look even more human)\n"
   ]
  },
  {
   "cell_type": "code",
   "execution_count": 14,
   "metadata": {},
   "outputs": [
    {
     "name": "stdout",
     "output_type": "stream",
     "text": [
      "None\n"
     ]
    }
   ],
   "source": [
    "\n",
    "user_button = chrome_webdriver.find_element_by_css_selector('#SHORTCUT_FOCUSABLE_DIV > div:nth-child(4) > div > div > div > div._3ozFtOe6WpJEMUtxDOIvtU > div:nth-child(3) > div > div > div._1l2RfnlEvwmRPfDwe46NRR._2OOX0Ul2XYOdHT0ojyBOUD.Ab_CG1GZxb0mjtooTcgRC > div > div > div:nth-child(3) > a > div')\n",
    "username = user_button.click()\n",
    "print(username)"
   ]
  },
  {
   "cell_type": "markdown",
   "metadata": {},
   "source": [
    "to find interactble things on a web page, right click and inspect, and right click that information and copy selector (it should be more stable than copy xpath which can also be used)\n",
    "\n",
    "we used click() which will click the copied selector that you found\n",
    "you could also use .text which will show the text"
   ]
  }
 ],
 "metadata": {
  "kernelspec": {
   "display_name": "Python 3",
   "language": "python",
   "name": "python3"
  },
  "language_info": {
   "codemirror_mode": {
    "name": "ipython",
    "version": 3
   },
   "file_extension": ".py",
   "mimetype": "text/x-python",
   "name": "python",
   "nbconvert_exporter": "python",
   "pygments_lexer": "ipython3",
   "version": "3.7.3"
  }
 },
 "nbformat": 4,
 "nbformat_minor": 1
}
